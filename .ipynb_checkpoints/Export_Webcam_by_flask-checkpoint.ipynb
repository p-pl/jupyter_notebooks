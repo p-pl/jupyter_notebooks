{
 "cells": [
  {
   "cell_type": "markdown",
   "id": "110540de-8257-455b-9999-2b71021df1be",
   "metadata": {},
   "source": [
    "# Export local webcam with ssh tunnel to remote jupyter session\n",
    "## Install Requirements"
   ]
  },
  {
   "cell_type": "code",
   "execution_count": 4,
   "id": "52a4d679-f9b9-4190-8337-e93172b786d8",
   "metadata": {},
   "outputs": [
    {
     "name": "stdout",
     "output_type": "stream",
     "text": [
      "Requirement already satisfied: opencv-python==4.12.0.* in c:\\users\\ppl\\miniconda3\\envs\\env-py3.12\\lib\\site-packages (4.12.0.88)\n",
      "Requirement already satisfied: flask in c:\\users\\ppl\\miniconda3\\envs\\env-py3.12\\lib\\site-packages (3.1.1)\n",
      "Requirement already satisfied: numpy<2.3.0,>=2 in c:\\users\\ppl\\appdata\\roaming\\python\\python312\\site-packages (from opencv-python==4.12.0.*) (2.2.6)\n",
      "Requirement already satisfied: blinker>=1.9.0 in c:\\users\\ppl\\miniconda3\\envs\\env-py3.12\\lib\\site-packages (from flask) (1.9.0)\n",
      "Requirement already satisfied: click>=8.1.3 in c:\\users\\ppl\\miniconda3\\envs\\env-py3.12\\lib\\site-packages (from flask) (8.2.1)\n",
      "Requirement already satisfied: itsdangerous>=2.2.0 in c:\\users\\ppl\\miniconda3\\envs\\env-py3.12\\lib\\site-packages (from flask) (2.2.0)\n",
      "Requirement already satisfied: jinja2>=3.1.2 in c:\\users\\ppl\\miniconda3\\envs\\env-py3.12\\lib\\site-packages (from flask) (3.1.6)\n",
      "Requirement already satisfied: markupsafe>=2.1.1 in c:\\users\\ppl\\miniconda3\\envs\\env-py3.12\\lib\\site-packages (from flask) (3.0.2)\n",
      "Requirement already satisfied: werkzeug>=3.1.0 in c:\\users\\ppl\\miniconda3\\envs\\env-py3.12\\lib\\site-packages (from flask) (3.1.3)\n",
      "Requirement already satisfied: colorama in c:\\users\\ppl\\miniconda3\\envs\\env-py3.12\\lib\\site-packages (from click>=8.1.3->flask) (0.4.6)\n"
     ]
    }
   ],
   "source": [
    "!pip install opencv-python==4.12.0.*  flask"
   ]
  },
  {
   "cell_type": "markdown",
   "id": "5435ed48-2056-4f24-96a8-bc463d423064",
   "metadata": {},
   "source": [
    "## Import"
   ]
  },
  {
   "cell_type": "code",
   "execution_count": 1,
   "id": "0e9b59be-2fb9-403d-ac23-04b9e3253903",
   "metadata": {},
   "outputs": [],
   "source": [
    "import os\n",
    "import cv2\n",
    "from flask import Flask, Response"
   ]
  },
  {
   "cell_type": "markdown",
   "id": "effd191f-705b-4097-8d62-8bda0ab7849c",
   "metadata": {},
   "source": [
    "## Config"
   ]
  },
  {
   "cell_type": "code",
   "execution_count": 2,
   "id": "e9375ff9-05d3-48a0-8035-5a0ab23fba00",
   "metadata": {},
   "outputs": [
    {
     "data": {
      "text/plain": [
       "'4.12.0'"
      ]
     },
     "execution_count": 2,
     "metadata": {},
     "output_type": "execute_result"
    }
   ],
   "source": [
    "# check OpenCV, and display OpenCV version\n",
    "cv2.__version__"
   ]
  },
  {
   "cell_type": "code",
   "execution_count": 3,
   "id": "8c70c405-1955-44a8-8cb6-f78e41735aa3",
   "metadata": {},
   "outputs": [],
   "source": [
    "from platform import python_version\n",
    "assert python_version() == '3.12.11', \"Wrong python version\""
   ]
  },
  {
   "cell_type": "code",
   "execution_count": 11,
   "id": "e2ca9b4a-0534-4851-a23f-6506ae7c96bb",
   "metadata": {},
   "outputs": [],
   "source": [
    "# if you face very long webcam starting time, try this:\n",
    "os.environ[\"OPENCV_VIDEOIO_MSMF_ENABLE_HW_TRANSFORMS\"] = \"0\""
   ]
  },
  {
   "cell_type": "markdown",
   "id": "cee7434f-2e15-439e-aaf2-7d0eaf34f5c5",
   "metadata": {},
   "source": [
    "### Check available webcams"
   ]
  },
  {
   "cell_type": "code",
   "execution_count": 4,
   "id": "46b5a15c-9e12-419e-b903-3860d5880d4b",
   "metadata": {},
   "outputs": [
    {
     "name": "stdout",
     "output_type": "stream",
     "text": [
      "Camera index 00 OK!\n",
      "w: 640.0 / h: 480.0\n",
      "Camera index 01 OK!\n",
      "w: 640.0 / h: 480.0\n",
      "Camera index 02 not found...\n",
      "Camera index 03 not found...\n",
      "Camera index 04 not found...\n",
      "Camera index 05 not found...\n",
      "Camera index 06 not found...\n",
      "Camera index 07 not found...\n",
      "Camera index 08 not found...\n",
      "Camera index 09 not found...\n",
      "Cameras found: [0, 1]\n"
     ]
    }
   ],
   "source": [
    "max_cameras = 10\n",
    "available = []\n",
    "for i in range(max_cameras):\n",
    "    cap = cv2.VideoCapture(i)\n",
    "  \n",
    "    if not cap.read()[0]:\n",
    "        print(f\"Camera index {i:02d} not found...\")\n",
    "        continue\n",
    "\n",
    "    available.append(i)\n",
    "    \n",
    "    print(f\"Camera index {i:02d} OK!\")\n",
    "    w = cap.get(3)\n",
    "    h = cap.get(4)      \n",
    "    print(f\"w: {w} / h: {h}\")\n",
    "    cap.release()\n",
    "\n",
    "print(f\"Cameras found: {available}\")"
   ]
  },
  {
   "cell_type": "markdown",
   "id": "b525c114-0caa-47aa-aa4f-c406a6f75f06",
   "metadata": {},
   "source": [
    "## Flask app to stream local webcam"
   ]
  },
  {
   "cell_type": "code",
   "execution_count": 5,
   "id": "3737c06c-9695-44c2-8859-f5ab1652a567",
   "metadata": {},
   "outputs": [],
   "source": [
    "app = Flask(__name__)\n",
    "camera = cv2.VideoCapture(available[1])  # 0 is usually the built-in webcam\n",
    "\n",
    "def gen_frames():\n",
    "    while True:\n",
    "        success, frame = camera.read()\n",
    "        if not success:\n",
    "            break\n",
    "        ret, buffer = cv2.imencode('.jpg', frame)\n",
    "        frame = buffer.tobytes()\n",
    "        yield (b'--frame\\r\\n'\n",
    "               b'Content-Type: image/jpeg\\r\\n\\r\\n' + frame + b'\\r\\n')\n",
    "\n",
    "@app.route('/')\n",
    "def video_feed():\n",
    "    return Response(gen_frames(),\n",
    "                   mimetype='multipart/x-mixed-replace; boundary=frame')"
   ]
  },
  {
   "cell_type": "markdown",
   "id": "5ac29e44-5513-47f8-8c08-59852aca10e6",
   "metadata": {},
   "source": [
    "## Allow port opening\n",
    "in windows use cmd (as admin):\n",
    "```bash\n",
    "netsh firewall add portopening TCP 5000 \"MyAppName\"\n",
    "netsh advfirewall firewall add rule name=\"MyAppName TCP Port 5000\" dir=in action=allow protocol=TCP localport=5000\n",
    "netsh advfirewall firewall add rule name=\"MyAppName TCP Port 5000\" dir=out action=allow protocol=TCP localport=5000\n",
    "```"
   ]
  },
  {
   "cell_type": "code",
   "execution_count": 6,
   "id": "b4a1ddca-8967-4008-97b6-2f0b77d921de",
   "metadata": {},
   "outputs": [
    {
     "name": "stdout",
     "output_type": "stream",
     "text": [
      " * Serving Flask app '__main__'\n",
      " * Debug mode: off\n"
     ]
    },
    {
     "name": "stderr",
     "output_type": "stream",
     "text": [
      "WARNING: This is a development server. Do not use it in a production deployment. Use a production WSGI server instead.\n",
      " * Running on all addresses (0.0.0.0)\n",
      " * Running on http://127.0.0.1:5000\n",
      " * Running on http://192.168.178.21:5000\n",
      "Press CTRL+C to quit\n",
      "192.168.178.21 - - [24/Jul/2025 23:52:47] \"GET / HTTP/1.1\" 200 -\n"
     ]
    }
   ],
   "source": [
    "app.run(host='0.0.0.0', port=5000)"
   ]
  },
  {
   "cell_type": "code",
   "execution_count": 7,
   "id": "188ea69f-9dc2-4409-9ceb-9c7d3f97e1ad",
   "metadata": {},
   "outputs": [],
   "source": [
    "camera.release()\n",
    "cv2.destroyAllWindows()"
   ]
  },
  {
   "cell_type": "markdown",
   "id": "bb55d429-3bcf-44a6-b911-ff8825531fd5",
   "metadata": {},
   "source": [
    "## Set Up SSH Reverse Tunneling\n",
    "\n",
    "make local webcam stream accessible on remote server, use SSH reverse tunneling\n",
    "```bash\n",
    "ssh -R 5000:127.0.0.1:5000 username@remote_server\n",
    "```\n",
    "\n",
    "This command:\n",
    "- `-R` creates a reverse tunnel\n",
    "- `5000:127.0.0.1:5000` forwards remote port 5000 to local port 5000\n",
    "- `username@remote_server` is your remote server credentials"
   ]
  },
  {
   "cell_type": "code",
   "execution_count": null,
   "id": "561c97bc-f7d1-4faf-90b8-119acbb2dada",
   "metadata": {},
   "outputs": [],
   "source": []
  }
 ],
 "metadata": {
  "kernelspec": {
   "display_name": "Python 3 (ipykernel)",
   "language": "python",
   "name": "python3"
  },
  "language_info": {
   "codemirror_mode": {
    "name": "ipython",
    "version": 3
   },
   "file_extension": ".py",
   "mimetype": "text/x-python",
   "name": "python",
   "nbconvert_exporter": "python",
   "pygments_lexer": "ipython3",
   "version": "3.12.11"
  }
 },
 "nbformat": 4,
 "nbformat_minor": 5
}
